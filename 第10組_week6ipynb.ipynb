{
  "nbformat": 4,
  "nbformat_minor": 0,
  "metadata": {
    "colab": {
      "name": "第10組-week6ipynb",
      "provenance": [],
      "include_colab_link": true
    },
    "kernelspec": {
      "name": "python3",
      "display_name": "Python 3"
    }
  },
  "cells": [
    {
      "cell_type": "markdown",
      "metadata": {
        "id": "view-in-github",
        "colab_type": "text"
      },
      "source": [
        "<a href=\"https://colab.research.google.com/github/wetyu-61/computational-thinking/blob/master/%E7%AC%AC10%E7%B5%84_week6ipynb.ipynb\" target=\"_parent\"><img src=\"https://colab.research.google.com/assets/colab-badge.svg\" alt=\"Open In Colab\"/></a>"
      ]
    },
    {
      "cell_type": "code",
      "metadata": {
        "id": "9IXWDlKWWrvX",
        "colab_type": "code",
        "outputId": "83672004-d414-4c91-e9f5-5a4f27aff5bd",
        "colab": {
          "base_uri": "https://localhost:8080/",
          "height": 102
        }
      },
      "source": [
        "t1 = int(input('請輸入第一次期中考成績?'))\n",
        "t2 = int(input('請輸入第二次期中考成績?'))\n",
        "t3 = int(input('請輸入期末考成績?'))\n",
        "總分 = (t1 + t2 + t3)\n",
        "print('總分', 總分)\n",
        "平均 = (t1 + t2 + t3)/3\n",
        "print('平均', 平均)"
      ],
      "execution_count": 0,
      "outputs": [
        {
          "output_type": "stream",
          "text": [
            "請輸入第一次期中考成績?75\n",
            "請輸入第二次期中考成績?80\n",
            "請輸入期末考成績?65\n",
            "總分 220\n",
            "平均 73.33333333333333\n"
          ],
          "name": "stdout"
        }
      ]
    },
    {
      "cell_type": "code",
      "metadata": {
        "id": "cK8vFX7wYZri",
        "colab_type": "code",
        "outputId": "35b5166c-e291-4a91-fbc9-55bfc32f8ca8",
        "colab": {
          "base_uri": "https://localhost:8080/",
          "height": 68
        }
      },
      "source": [
        "a =int(input('請輸入幾尺?'))\n",
        "b =int(input('請輸入幾吋?'))\n",
        "cm =(a*12+b)*2.54\n",
        "print('轉換成', cm)"
      ],
      "execution_count": 0,
      "outputs": [
        {
          "output_type": "stream",
          "text": [
            "請輸入幾尺?5\n",
            "請輸入幾吋?8\n",
            "轉換成 172.72\n"
          ],
          "name": "stdout"
        }
      ]
    },
    {
      "cell_type": "code",
      "metadata": {
        "id": "CbKbeqV8dGu8",
        "colab_type": "code",
        "outputId": "b0d3952a-3747-4616-db14-ff3e76b04d52",
        "colab": {
          "base_uri": "https://localhost:8080/",
          "height": 69
        }
      },
      "source": [
        "a =int(input('請輸入座號?'))\n",
        "b=int(input('請輸入幾人一組?'))\n",
        "組別=a%b\n",
        "print('組別', 組別)\n"
      ],
      "execution_count": 0,
      "outputs": [
        {
          "output_type": "stream",
          "text": [
            "請輸入座號?19\n",
            "請輸入幾人一組?5\n",
            "組別 4\n"
          ],
          "name": "stdout"
        }
      ]
    },
    {
      "cell_type": "code",
      "metadata": {
        "id": "9solIe3UsJr1",
        "colab_type": "code",
        "outputId": "17462fa4-3625-4bfa-b22b-2e5ced3e763f",
        "colab": {
          "base_uri": "https://localhost:8080/",
          "height": 69
        }
      },
      "source": [
        "a=30/12\n",
        "b=20*30\n",
        "c=((30-30%12)/12*200)+((30%12)*20)\n",
        "print(a)\n",
        "print(b)\n",
        "print(c)"
      ],
      "execution_count": 0,
      "outputs": [
        {
          "output_type": "stream",
          "text": [
            "2.5\n",
            "600\n",
            "520.0\n"
          ],
          "name": "stdout"
        }
      ]
    },
    {
      "cell_type": "code",
      "metadata": {
        "id": "7RyGo037hA3F",
        "colab_type": "code",
        "outputId": "843371dc-bffc-4b86-dd6c-a2e62325ed81",
        "colab": {
          "base_uri": "https://localhost:8080/",
          "height": 156
        }
      },
      "source": [
        "KB=2**10 \n",
        "MB=2**20\n",
        "GB=2**30\n",
        "TB=2**40\n",
        "PB=2**50\n",
        "EB=2**60\n",
        "ZB=2**70\n",
        "YB=2**80\n",
        "print(KB)\n",
        "print(MB)\n",
        "print(GB)\n",
        "print(TB)\n",
        "print(PB)\n",
        "print(EB)\n",
        "print(ZB)\n",
        "print(YB)"
      ],
      "execution_count": 0,
      "outputs": [
        {
          "output_type": "stream",
          "text": [
            "1024\n",
            "1048576\n",
            "1073741824\n",
            "1099511627776\n",
            "1125899906842624\n",
            "1152921504606846976\n",
            "1180591620717411303424\n",
            "1208925819614629174706176\n"
          ],
          "name": "stdout"
        }
      ]
    }
  ]
}