{
  "nbformat": 4,
  "nbformat_minor": 0,
  "metadata": {
    "colab": {
      "name": "week15-91-劉思妤.ipynb",
      "provenance": [],
      "include_colab_link": true
    },
    "kernelspec": {
      "name": "python3",
      "display_name": "Python 3"
    }
  },
  "cells": [
    {
      "cell_type": "markdown",
      "metadata": {
        "id": "view-in-github",
        "colab_type": "text"
      },
      "source": [
        "<a href=\"https://colab.research.google.com/github/wetyu-61/computational-thinking/blob/master/week15_91_%E5%8A%89%E6%80%9D%E5%A6%A4.ipynb\" target=\"_parent\"><img src=\"https://colab.research.google.com/assets/colab-badge.svg\" alt=\"Open In Colab\"/></a>"
      ]
    },
    {
      "cell_type": "code",
      "metadata": {
        "id": "JYmiVLBGqAZC",
        "colab_type": "code",
        "colab": {
          "base_uri": "https://localhost:8080/",
          "height": 187
        },
        "outputId": "0346dbee-5ad9-407e-c3db-97769ffe518a"
      },
      "source": [
        "n = 1\n",
        "\n",
        "while n < 5 :\n",
        "  print(\"變數n是\", n)\n",
        "  n = n + 1\n",
        "print(\"Finished\")\n",
        "\n",
        "n = 1\n",
        "if n < 5: \n",
        "  print(\"變數n是\", n)\n",
        "  n = n + 1\n",
        "if n < 5:\n",
        "  print(\"變數n是\", n)\n",
        "  n = n + 1\n",
        "if n < 5: \n",
        "  print(\"變數n是\", n)\n",
        "  n = n + 1\n",
        "if n < 5: \n",
        "  print(\"變數n是\", n)\n",
        "  n = n + 1\n",
        "if n < 5: \n",
        "  print(\"變數n是\", n) \n",
        "  n = n + 1 \n",
        "print(\"Finished\")"
      ],
      "execution_count": 1,
      "outputs": [
        {
          "output_type": "stream",
          "text": [
            "變數n是 1\n",
            "變數n是 2\n",
            "變數n是 3\n",
            "變數n是 4\n",
            "Finished\n",
            "變數n是 1\n",
            "變數n是 2\n",
            "變數n是 3\n",
            "變數n是 4\n",
            "Finished\n"
          ],
          "name": "stdout"
        }
      ]
    },
    {
      "cell_type": "code",
      "metadata": {
        "id": "OzNSA93OqSOw",
        "colab_type": "code",
        "colab": {
          "base_uri": "https://localhost:8080/",
          "height": 187
        },
        "outputId": "83cdd06d-e5b7-49bd-f69e-b628ae0cb82b"
      },
      "source": [
        "x = 0\n",
        "while x < 10: \n",
        "  print(\"hello\")\n",
        "  x = x + 1 "
      ],
      "execution_count": 2,
      "outputs": [
        {
          "output_type": "stream",
          "text": [
            "hello\n",
            "hello\n",
            "hello\n",
            "hello\n",
            "hello\n",
            "hello\n",
            "hello\n",
            "hello\n",
            "hello\n",
            "hello\n"
          ],
          "name": "stdout"
        }
      ]
    },
    {
      "cell_type": "code",
      "metadata": {
        "id": "ZSeJkZfZqbyx",
        "colab_type": "code",
        "colab": {
          "base_uri": "https://localhost:8080/",
          "height": 187
        },
        "outputId": "94175fea-752f-47af-c6fd-de5ec2153960"
      },
      "source": [
        "times = 0 \n",
        "while times < 10: \n",
        "  times = times + 1 \n",
        "  print(\"這是第\", times, \"次的hello\")"
      ],
      "execution_count": 3,
      "outputs": [
        {
          "output_type": "stream",
          "text": [
            "這是第 1 次的hello\n",
            "這是第 2 次的hello\n",
            "這是第 3 次的hello\n",
            "這是第 4 次的hello\n",
            "這是第 5 次的hello\n",
            "這是第 6 次的hello\n",
            "這是第 7 次的hello\n",
            "這是第 8 次的hello\n",
            "這是第 9 次的hello\n",
            "這是第 10 次的hello\n"
          ],
          "name": "stdout"
        }
      ]
    },
    {
      "cell_type": "code",
      "metadata": {
        "id": "vOxqNlX9qidG",
        "colab_type": "code",
        "colab": {
          "base_uri": "https://localhost:8080/",
          "height": 357
        },
        "outputId": "c4a1f964-e296-40c1-c533-8985b4ace2f9"
      },
      "source": [
        "times = 0 \n",
        "left = 0 \n",
        "while times < 10: \n",
        "  times = times + 1 \n",
        "  print(\"這是第\", times, \"次的hello\")\n",
        "  left = 10 - times \n",
        "  print(\"還有\", left, \"次機會\")"
      ],
      "execution_count": 4,
      "outputs": [
        {
          "output_type": "stream",
          "text": [
            "這是第 1 次的hello\n",
            "還有 9 次機會\n",
            "這是第 2 次的hello\n",
            "還有 8 次機會\n",
            "這是第 3 次的hello\n",
            "還有 7 次機會\n",
            "這是第 4 次的hello\n",
            "還有 6 次機會\n",
            "這是第 5 次的hello\n",
            "還有 5 次機會\n",
            "這是第 6 次的hello\n",
            "還有 4 次機會\n",
            "這是第 7 次的hello\n",
            "還有 3 次機會\n",
            "這是第 8 次的hello\n",
            "還有 2 次機會\n",
            "這是第 9 次的hello\n",
            "還有 1 次機會\n",
            "這是第 10 次的hello\n",
            "還有 0 次機會\n"
          ],
          "name": "stdout"
        }
      ]
    },
    {
      "cell_type": "code",
      "metadata": {
        "id": "TIrSDZvpqwcm",
        "colab_type": "code",
        "colab": {
          "base_uri": "https://localhost:8080/",
          "height": 34
        },
        "outputId": "0c8568c3-6ab6-4ba7-81f3-70282371cd5d"
      },
      "source": [
        "x = 0 \n",
        "result = 0\n",
        "\n",
        "while x < 10: \n",
        "  x = x + 1 \n",
        "  result = result + x\n",
        "  \n",
        "print(\"答案是:\", result) "
      ],
      "execution_count": 5,
      "outputs": [
        {
          "output_type": "stream",
          "text": [
            "答案是: 55\n"
          ],
          "name": "stdout"
        }
      ]
    },
    {
      "cell_type": "code",
      "metadata": {
        "id": "8HXoaIjAq6Zr",
        "colab_type": "code",
        "colab": {
          "base_uri": "https://localhost:8080/",
          "height": 34
        },
        "outputId": "a41f8a57-ed13-4424-dd0f-5cb60574ba75"
      },
      "source": [
        "x = 0 \n",
        "result = 0\n",
        "end = 50\n",
        "\n",
        "while result <= end: \n",
        "  x = x + 1 \n",
        "  result = result + x\n",
        "print(\"最後加的X是\", x) "
      ],
      "execution_count": 6,
      "outputs": [
        {
          "output_type": "stream",
          "text": [
            "最後加的X是 10\n"
          ],
          "name": "stdout"
        }
      ]
    },
    {
      "cell_type": "code",
      "metadata": {
        "id": "zoR4bee3rD3j",
        "colab_type": "code",
        "colab": {
          "base_uri": "https://localhost:8080/",
          "height": 34
        },
        "outputId": "da1424e6-fb01-489c-c174-2f9a98ab8cf4"
      },
      "source": [
        "sum = 0 \n",
        "x = 1\n",
        "\n",
        "while x < 11: \n",
        "  sum = sum + x \n",
        "  x = x + 2\n",
        "  \n",
        "print(\"1 + 3 + 5 + 7 + 9 = \", sum) "
      ],
      "execution_count": 7,
      "outputs": [
        {
          "output_type": "stream",
          "text": [
            "1 + 3 + 5 + 7 + 9 =  25\n"
          ],
          "name": "stdout"
        }
      ]
    },
    {
      "cell_type": "code",
      "metadata": {
        "id": "SKdxJCeBrOFW",
        "colab_type": "code",
        "colab": {
          "base_uri": "https://localhost:8080/",
          "height": 34
        },
        "outputId": "dc3e8aad-8195-4b53-b6e3-1f42270f0111"
      },
      "source": [
        "a = 0 \n",
        "\n",
        "while a < 6: \n",
        "  print(a, end = \" \")\n",
        "  a = a + 1 "
      ],
      "execution_count": 8,
      "outputs": [
        {
          "output_type": "stream",
          "text": [
            "0 1 2 3 4 5 "
          ],
          "name": "stdout"
        }
      ]
    },
    {
      "cell_type": "code",
      "metadata": {
        "id": "MB0gX5JfrfFE",
        "colab_type": "code",
        "colab": {
          "base_uri": "https://localhost:8080/",
          "height": 34
        },
        "outputId": "9e8aa319-fe40-45ee-9daa-db230e9dddeb"
      },
      "source": [
        "b = 1 \n",
        "\n",
        "while b < 6: \n",
        "  print(b, end = \" \")\n",
        "  b = b + 2 "
      ],
      "execution_count": 9,
      "outputs": [
        {
          "output_type": "stream",
          "text": [
            "1 3 5 "
          ],
          "name": "stdout"
        }
      ]
    },
    {
      "cell_type": "code",
      "metadata": {
        "id": "HsTwdiw_rlhI",
        "colab_type": "code",
        "colab": {
          "base_uri": "https://localhost:8080/",
          "height": 34
        },
        "outputId": "1b64dc7e-94b6-4589-daf6-c854dc073eff"
      },
      "source": [
        "c = 2 \n",
        "\n",
        "while c < 6: \n",
        "  print(c, end = \" \")\n",
        "  c = c + 1 "
      ],
      "execution_count": 10,
      "outputs": [
        {
          "output_type": "stream",
          "text": [
            "2 3 4 5 "
          ],
          "name": "stdout"
        }
      ]
    },
    {
      "cell_type": "code",
      "metadata": {
        "id": "NM0BsQSbrrA2",
        "colab_type": "code",
        "colab": {
          "base_uri": "https://localhost:8080/",
          "height": 34
        },
        "outputId": "93efa843-1201-42e1-b321-4be8d2b3106b"
      },
      "source": [
        "d = 6 \n",
        "\n",
        "while d > 1: \n",
        "  print(d, end = \" \")\n",
        "  d = d - 2"
      ],
      "execution_count": 11,
      "outputs": [
        {
          "output_type": "stream",
          "text": [
            "6 4 2 "
          ],
          "name": "stdout"
        }
      ]
    },
    {
      "cell_type": "code",
      "metadata": {
        "id": "w_DHjIMHrwXK",
        "colab_type": "code",
        "colab": {
          "base_uri": "https://localhost:8080/",
          "height": 34
        },
        "outputId": "511a1c4a-0aba-48bd-f758-d884bef2f275"
      },
      "source": [
        "sum = 0\n",
        "i = 0\n",
        "while sum <= 1000:\n",
        "  i += 1\n",
        "  sum += i*i\n",
        "print('最小的n值為', i)"
      ],
      "execution_count": 12,
      "outputs": [
        {
          "output_type": "stream",
          "text": [
            "最小的n值為 14\n"
          ],
          "name": "stdout"
        }
      ]
    },
    {
      "cell_type": "code",
      "metadata": {
        "id": "-mJ3iCqgr1oK",
        "colab_type": "code",
        "colab": {
          "base_uri": "https://localhost:8080/",
          "height": 51
        },
        "outputId": "b7d5e0fd-74f1-43cd-b8a0-5aaf9fa916ea"
      },
      "source": [
        "M = int(input('請輸入限制值M?')) \n",
        "factorial = 1\n",
        "i = 1\n",
        "\n",
        "while(factorial < M): \n",
        "  i = i + 1 \n",
        "  factorial = factorial * i\n",
        "\n",
        "print(i,'階乘為', factorial,'其值大於', M) "
      ],
      "execution_count": 13,
      "outputs": [
        {
          "output_type": "stream",
          "text": [
            "請輸入限制值M?100\n",
            "5 階乘為 120 其值大於 100\n"
          ],
          "name": "stdout"
        }
      ]
    },
    {
      "cell_type": "code",
      "metadata": {
        "id": "bn69X42MsBox",
        "colab_type": "code",
        "colab": {}
      },
      "source": [
        ""
      ],
      "execution_count": 0,
      "outputs": []
    }
  ]
}