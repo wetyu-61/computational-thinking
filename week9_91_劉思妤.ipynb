{
  "nbformat": 4,
  "nbformat_minor": 0,
  "metadata": {
    "colab": {
      "name": "week9-91-劉思妤.ipynb",
      "provenance": [],
      "include_colab_link": true
    },
    "kernelspec": {
      "name": "python3",
      "display_name": "Python 3"
    }
  },
  "cells": [
    {
      "cell_type": "markdown",
      "metadata": {
        "id": "view-in-github",
        "colab_type": "text"
      },
      "source": [
        "<a href=\"https://colab.research.google.com/github/wetyu-61/computational-thinking/blob/master/week9_91_%E5%8A%89%E6%80%9D%E5%A6%A4.ipynb\" target=\"_parent\"><img src=\"https://colab.research.google.com/assets/colab-badge.svg\" alt=\"Open In Colab\"/></a>"
      ]
    },
    {
      "cell_type": "code",
      "metadata": {
        "id": "NJl-iCtViHK9",
        "colab_type": "code",
        "outputId": "a09af659-adf9-41a1-925f-09a1b985b4e0",
        "colab": {
          "base_uri": "https://localhost:8080/",
          "height": 51
        }
      },
      "source": [
        "score = int(input('請輸入一個成績?'))\n",
        "if score >= 60:\n",
        "  print('很好,請繼續保持下去')"
      ],
      "execution_count": 0,
      "outputs": [
        {
          "output_type": "stream",
          "text": [
            "請輸入一個成績?88\n",
            "很好,請繼續保持下去\n"
          ],
          "name": "stdout"
        }
      ]
    },
    {
      "cell_type": "code",
      "metadata": {
        "id": "w7n9LH0ziJlg",
        "colab_type": "code",
        "outputId": "00074f6d-a8d9-4657-ecbf-41860208b997",
        "colab": {
          "base_uri": "https://localhost:8080/",
          "height": 51
        }
      },
      "source": [
        "score = int(input('請輸入一個成績?'))\n",
        "if score >= 60:\n",
        "  print('有及格ㄡ~')\n",
        "else:\n",
        "  print('不及格ㄟ!')"
      ],
      "execution_count": 0,
      "outputs": [
        {
          "output_type": "stream",
          "text": [
            "請輸入一個成績?55\n",
            "不及格ㄟ!\n"
          ],
          "name": "stdout"
        }
      ]
    },
    {
      "cell_type": "code",
      "metadata": {
        "id": "cJp7hLFaiV9-",
        "colab_type": "code",
        "outputId": "c56d730c-9fe6-4158-d16d-8cfb80a2ac11",
        "colab": {
          "base_uri": "https://localhost:8080/",
          "height": 51
        }
      },
      "source": [
        "score = int(input('請輸入一個成績?'))\n",
        "if score >= 80:\n",
        "  print('非常好')\n",
        "elif score >= 60:\n",
        "  print('不錯喔')\n",
        "else:\n",
        "  print('要加油')"
      ],
      "execution_count": 0,
      "outputs": [
        {
          "output_type": "stream",
          "text": [
            "請輸入一個成績?66\n",
            "不錯喔\n"
          ],
          "name": "stdout"
        }
      ]
    },
    {
      "cell_type": "code",
      "metadata": {
        "id": "Lq_iSJrcicnh",
        "colab_type": "code",
        "outputId": "c401ce7b-6851-43c3-e280-16d3f715326b",
        "colab": {
          "base_uri": "https://localhost:8080/",
          "height": 68
        }
      },
      "source": [
        "x = float(input('請輸入該點的X座標?')) \n",
        "y = float(input('請輸入該點的Y座標?'))\n",
        "if (x > 0):\n",
        " if (y > 0):\n",
        "  print('該點在第一象限') \n",
        " else:\n",
        "  print('該點在第四象限') \n",
        "else:\n",
        " if (y > 0):\n",
        "  print('該點在第二象限') \n",
        " else:\n",
        "  print('該點在第三象限') "
      ],
      "execution_count": 0,
      "outputs": [
        {
          "output_type": "stream",
          "text": [
            "請輸入該點的X座標?1\n",
            "請輸入該點的Y座標?1\n",
            "該點在第一象限\n"
          ],
          "name": "stdout"
        }
      ]
    },
    {
      "cell_type": "code",
      "metadata": {
        "id": "Z_sxlEQTldYg",
        "colab_type": "code",
        "colab": {
          "base_uri": "https://localhost:8080/",
          "height": 51
        },
        "outputId": "85f08baa-f4d9-46f0-ac79-6c9df2e24627"
      },
      "source": [
        "cost = int(input('請輸入購買金額?'))\n",
        "if cost >= 2000:\n",
        "  print(cost * 0.9)\n",
        "else:\n",
        "  print(cost)"
      ],
      "execution_count": 1,
      "outputs": [
        {
          "output_type": "stream",
          "text": [
            "請輸入購買金額?2000\n",
            "1800.0\n"
          ],
          "name": "stdout"
        }
      ]
    },
    {
      "cell_type": "code",
      "metadata": {
        "id": "26n2m1vTYgC_",
        "colab_type": "code",
        "colab": {
          "base_uri": "https://localhost:8080/",
          "height": 51
        },
        "outputId": "46286260-41ac-45c4-a44b-b423bfa9dbfe"
      },
      "source": [
        "num = int(input('請輸入一個整數?'))\n",
        "if num % 2 == 0: \n",
        "  print(num, '為偶數')\n",
        "else:\n",
        "  print(num, '為奇數')"
      ],
      "execution_count": 2,
      "outputs": [
        {
          "output_type": "stream",
          "text": [
            "請輸入一個整數?13\n",
            "13 為奇數\n"
          ],
          "name": "stdout"
        }
      ]
    },
    {
      "cell_type": "code",
      "metadata": {
        "id": "z1VDhaGuYrlN",
        "colab_type": "code",
        "colab": {
          "base_uri": "https://localhost:8080/",
          "height": 51
        },
        "outputId": "3599c323-1ec1-498e-8992-de1beaf15410"
      },
      "source": [
        "num = int(input('請輸入一個整數?'))\n",
        "if num % 2 == 1: \n",
        "  print(num, '為奇數')\n",
        "else:\n",
        "  print(num, '為偶數')"
      ],
      "execution_count": 3,
      "outputs": [
        {
          "output_type": "stream",
          "text": [
            "請輸入一個整數?13\n",
            "13 為奇數\n"
          ],
          "name": "stdout"
        }
      ]
    },
    {
      "cell_type": "code",
      "metadata": {
        "id": "p5J3ONEeYxDD",
        "colab_type": "code",
        "colab": {}
      },
      "source": [
        ""
      ],
      "execution_count": 0,
      "outputs": []
    }
  ]
}